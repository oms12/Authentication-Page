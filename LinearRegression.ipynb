{
  "cells": [
    {
      "cell_type": "markdown",
      "metadata": {
        "id": "view-in-github",
        "colab_type": "text"
      },
      "source": [
        "<a href=\"https://colab.research.google.com/github/oms12/Authentication-Page/blob/master/LinearRegression.ipynb\" target=\"_parent\"><img src=\"https://colab.research.google.com/assets/colab-badge.svg\" alt=\"Open In Colab\"/></a>"
      ]
    },
    {
      "cell_type": "code",
      "source": [
        "import numpy as np\n",
        "train_data = np.genfromtxt(\"/train.csv\", delimiter = ',') # files should be in the directory in which we are using it\n",
        "test_data = np.genfromtxt(\"/test.csv\",delimiter = ',')  # files should be present in the directory in which we are using it."
      ],
      "metadata": {
        "id": "0_mfiRV36hZN"
      },
      "execution_count": 10,
      "outputs": []
    },
    {
      "cell_type": "code",
      "source": [
        "train_data.shape\n",
        "test_data.shape"
      ],
      "metadata": {
        "colab": {
          "base_uri": "https://localhost:8080/"
        },
        "id": "kkD_DEs47tay",
        "outputId": "4e473f71-b628-4796-dfb5-2019388ce089"
      },
      "execution_count": 12,
      "outputs": [
        {
          "output_type": "execute_result",
          "data": {
            "text/plain": [
              "(111, 10)"
            ]
          },
          "metadata": {},
          "execution_count": 12
        }
      ]
    },
    {
      "cell_type": "code",
      "source": [
        "x_train = train_data[:,:10]\n",
        "y_train = train_data[:,10]\n",
        "x_test = test_data[:,:10]\n",
        "print(x_train.shape)\n",
        "print(y_train.shape)\n",
        "print(x_test.shape)\n"
      ],
      "metadata": {
        "colab": {
          "base_uri": "https://localhost:8080/"
        },
        "id": "d9Y6gPOH7zWR",
        "outputId": "20667a95-21ae-4472-e335-1abc25a4fb39"
      },
      "execution_count": 14,
      "outputs": [
        {
          "output_type": "stream",
          "name": "stdout",
          "text": [
            "(331, 10)\n",
            "(331,)\n",
            "(111, 10)\n"
          ]
        }
      ]
    },
    {
      "cell_type": "code",
      "source": [
        "from sklearn.linear_model import LinearRegression\n",
        "alg = LinearRegression()\n",
        "alg.fit(x_train,y_train)\n",
        "ans = alg.predict(x_test)\n",
        "# ans.shape\n",
        "# print(len(ans))\n",
        "for i in range (len(ans)):\n",
        "  ans[i] = format(ans[i],'.5f')\n",
        "np.savetxt('ans2.csv',ans,fmt='%.5f')\n",
        "ans"
      ],
      "metadata": {
        "colab": {
          "base_uri": "https://localhost:8080/"
        },
        "id": "fBfWLI2I9Eic",
        "outputId": "15779585-e0bf-46a3-e82d-a478a51d1d1e"
      },
      "execution_count": 19,
      "outputs": [
        {
          "output_type": "execute_result",
          "data": {
            "text/plain": [
              "array([105.52975, 105.80392, 178.60857,  79.38288,  52.95869,  98.87264,\n",
              "       150.71755,  34.86515, 113.13536, 161.50184, 135.86156,  94.71592,\n",
              "       138.48094, 141.37442, 158.76863, 171.65289, 106.44836, 103.9266 ,\n",
              "        95.38694, 167.40118, 166.53426, 101.53465, 252.45036, 147.02259,\n",
              "       214.78907, 161.27557, 210.61315,  71.78092, 189.65032, 206.61343,\n",
              "       219.98643, 168.80193, 116.84846, 178.744  ,  77.03247,  59.54633,\n",
              "       111.56738, 156.95187, 154.59591, 198.94457, 115.53884, 153.46699,\n",
              "        84.9618 , 113.70337, 142.14156, 147.3104 ,  82.78072,  77.89237,\n",
              "       128.99006, 261.58712, 213.31188, 243.98791, 167.68132, 183.69712,\n",
              "       166.85927, 202.1144 , 220.39236, 172.40288, 176.60898, 109.04657,\n",
              "       276.3779 ,  90.99942, 289.37221, 119.56253,  75.45688, 180.78599,\n",
              "       146.62093, 156.42382,  41.07904, 247.90645, 207.99121,  90.09641,\n",
              "       222.2417 , 189.86378, 182.26954, 164.39881, 190.27067, 105.44868,\n",
              "       199.86136, 245.79639, 123.20281, 119.41032, 145.8662 , 206.19247,\n",
              "       150.86282, 142.23222, 154.56875, 115.29233, 134.0781 , 118.42225,\n",
              "       203.57676, 170.66484, 127.4098 ,  57.13508, 231.92227, 185.20714,\n",
              "       187.37495,  83.55921, 185.42586, 217.34036, 108.86715,  80.98715,\n",
              "       127.05524, 242.00739, 155.97234, 125.67575, 246.41236, 234.96393,\n",
              "       191.51298, 168.33254, 163.02965])"
            ]
          },
          "metadata": {},
          "execution_count": 19
        }
      ]
    }
  ],
  "metadata": {
    "kernelspec": {
      "display_name": "Python 3",
      "language": "python",
      "name": "python3"
    },
    "language_info": {
      "codemirror_mode": {
        "name": "ipython",
        "version": 3
      },
      "file_extension": ".py",
      "mimetype": "text/x-python",
      "name": "python",
      "nbconvert_exporter": "python",
      "pygments_lexer": "ipython3",
      "version": "3.7.3"
    },
    "colab": {
      "name": "LinearRegression.ipynb",
      "provenance": [],
      "collapsed_sections": [],
      "include_colab_link": true
    }
  },
  "nbformat": 4,
  "nbformat_minor": 0
}